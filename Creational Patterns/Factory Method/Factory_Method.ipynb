{
 "cells": [
  {
   "cell_type": "markdown",
   "id": "11690cfd",
   "metadata": {},
   "source": [
    "## Factory Method Implementation (Python)\n",
    "\n",
    "This code demonstrates the Factory Method design pattern for creating different types of burgers in a restaurant setting.\n",
    "\n",
    "**Key Components:**\n",
    "\n",
    "*   **`Burger` (Abstract Product):** Defines the interface for all burger types (e.g., `prepare()` method).\n",
    "*   **`BeefBurger`, `VeggieBurger` (Concrete Products):** Implement the `Burger` interface, providing specific burger preparation logic.\n",
    "*   **`Restaurant` (Abstract Creator):** Defines an abstract `create_burger()` method (the Factory Method) that subclasses must implement.  It also contains the `order_burger()` method, which uses the factory method to create and prepare a burger.\n",
    "*   **`BeefBurgerRestaurant`, `VeggieBurgerRestaurant` (Concrete Creators):** Implement the `create_burger()` method to return specific `Burger` instances (e.g., `BeefBurger`, `VeggieBurger`).\n",
    "\n",
    "**How it Works:**\n",
    "\n",
    "1.  The client code (in this case, the last few lines that create the `beef_resto` and `veggie_resto` objects) interacts with concrete `Restaurant` subclasses (e.g., `BeefBurgerRestaurant`).\n",
    "2.  When `order_burger()` is called, it relies on the `create_burger()` method to return the correct `Burger` object.\n",
    "3.  Each concrete `Restaurant` subclass overrides `create_burger()` to return its corresponding `Burger` type.\n",
    "4.  The `order_burger()` method then calls `prepare()` on the `Burger` object to complete the order.\n",
    "\n",
    "**Benefits:**\n",
    "\n",
    "*   **Decoupling:** The client code (using the `Restaurant` class) is decoupled from the specific burger creation logic.\n",
    "*   **Open/Closed Principle:** New burger types can be added by creating new `Burger` subclasses and a corresponding `Restaurant` subclass without modifying existing code.\n",
    "\n",
    "This approach allows for a flexible and extensible way to manage burger creation in different restaurant types."
   ]
  },
  {
   "cell_type": "code",
   "execution_count": null,
   "id": "ccec9f74",
   "metadata": {},
   "outputs": [],
   "source": [
    "from abc import ABC, abstractmethod\n",
    "\n",
    "class Burger(ABC):\n",
    "    @abstractmethod\n",
    "    def prepare(self):\n",
    "        pass\n",
    "\n",
    "class BeefBurger(Burger):\n",
    "    def prepare(self):\n",
    "        return \"Preparing Beef Burger\"\n",
    "\n",
    "class VeggieBurger(Burger):\n",
    "    def prepare(self):\n",
    "        return \"Preparing Veggie Burger\"\n",
    "\n",
    "class Restaurant(ABC):\n",
    "    def order_burger(self):\n",
    "        burger = self.create_burger()\n",
    "        return burger.prepare()\n",
    "\n",
    "    @abstractmethod\n",
    "    def create_burger(self) -> Burger:\n",
    "        pass\n",
    "\n",
    "class BeefBurgerRestaurant(Restaurant):\n",
    "    def create_burger(self):\n",
    "        return BeefBurger()\n",
    "\n",
    "class VeggieBurgerRestaurant(Restaurant):\n",
    "    def create_burger(self):\n",
    "        return VeggieBurger()\n",
    "\n",
    "\n",
    "beef_resto = BeefBurgerRestaurant()\n",
    "print(beef_resto.order_burger())\n",
    "\n",
    "veggie_resto = VeggieBurgerRestaurant()\n",
    "print(veggie_resto.order_burger())"
   ]
  }
 ],
 "metadata": {
  "language_info": {
   "name": "python"
  }
 },
 "nbformat": 4,
 "nbformat_minor": 5
}
