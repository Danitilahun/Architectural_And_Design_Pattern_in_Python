{
 "cells": [
  {
   "cell_type": "markdown",
   "metadata": {},
   "source": [
    "## Basic Class Implementation"
   ]
  },
  {
   "cell_type": "code",
   "execution_count": 7,
   "metadata": {},
   "outputs": [],
   "source": [
    "class Singleton:\n",
    "    _instance = None\n",
    "    \n",
    "    def __new__(cls):\n",
    "        if cls._instance is None:\n",
    "            cls._instance = super().__new__(cls)\n",
    "        return cls._instance"
   ]
  },
  {
   "cell_type": "code",
   "execution_count": 9,
   "metadata": {},
   "outputs": [
    {
     "name": "stdout",
     "output_type": "stream",
     "text": [
      "True\n"
     ]
    }
   ],
   "source": [
    "obj1 = Singleton()\n",
    "obj2 = Singleton()\n",
    "print(obj1 == obj1 and obj1 is obj2)"
   ]
  },
  {
   "cell_type": "markdown",
   "metadata": {},
   "source": [
    "## MetaClass Implementation"
   ]
  },
  {
   "cell_type": "code",
   "execution_count": 10,
   "metadata": {},
   "outputs": [],
   "source": [
    "class SingletonMeta(type):\n",
    "    _instances = {}\n",
    "    \n",
    "    def __call__(cls, *args, **kwds):\n",
    "        if cls not in cls._instances:\n",
    "            instance =  super().__call__(*args, **kwds)\n",
    "            cls._instances[cls] = instance\n",
    "        return cls._instances[cls]"
   ]
  },
  {
   "cell_type": "code",
   "execution_count": 11,
   "metadata": {},
   "outputs": [],
   "source": [
    "class Singleton(metaclass = SingletonMeta):\n",
    "    pass"
   ]
  },
  {
   "cell_type": "code",
   "execution_count": 12,
   "metadata": {},
   "outputs": [
    {
     "name": "stdout",
     "output_type": "stream",
     "text": [
      "True\n"
     ]
    }
   ],
   "source": [
    "obj1 = Singleton()\n",
    "obj2 = Singleton()\n",
    "print(obj1 == obj1 and obj1 is obj2)"
   ]
  },
  {
   "cell_type": "markdown",
   "metadata": {},
   "source": [
    "## Decorator Implementation"
   ]
  },
  {
   "cell_type": "code",
   "execution_count": 13,
   "metadata": {},
   "outputs": [],
   "source": [
    "def singleton(cls):\n",
    "    instances = {}\n",
    "\n",
    "    def get_instance(*args, **kwargs):\n",
    "        if cls not in instances:\n",
    "            instances[cls] = cls(*args, **kwargs)  \n",
    "        return instances[cls]\n",
    "    \n",
    "    return get_instance  "
   ]
  },
  {
   "cell_type": "code",
   "execution_count": 14,
   "metadata": {},
   "outputs": [],
   "source": [
    "@singleton\n",
    "class SingletonClass:\n",
    "    def __init__(self, data):\n",
    "        self.data = data\n",
    "\n",
    "    def display(self):\n",
    "        print(f\"Singleton instance with data: {self.data}\")"
   ]
  },
  {
   "cell_type": "code",
   "execution_count": 16,
   "metadata": {},
   "outputs": [
    {
     "name": "stdout",
     "output_type": "stream",
     "text": [
      "True\n"
     ]
    }
   ],
   "source": [
    "obj1 = SingletonClass(\"Daniel\")\n",
    "obj2 = SingletonClass(\"Tilahun\")\n",
    "print(obj1 == obj1 and obj1 is obj2)"
   ]
  },
  {
   "cell_type": "markdown",
   "metadata": {},
   "source": [
    "### The most common use case for applying Singleton design pattern is when dealing with databases."
   ]
  },
  {
   "cell_type": "markdown",
   "metadata": {},
   "source": [
    "## Thread Safety and Lazy Initialization\n",
    "\n",
    "* a threading lock is used to ensure that only one thread can create the instance at a time, preventing race conditions. Leveraging lazy initialization means that the class instance is created only upon the initial object creation."
   ]
  },
  {
   "cell_type": "code",
   "execution_count": 17,
   "metadata": {},
   "outputs": [],
   "source": [
    "import threading\n",
    "\n",
    "class ThreadSafeSingleton:\n",
    "    _instance = None\n",
    "    _lock = threading.Lock()\n",
    "    \n",
    "    def __new__(cls):\n",
    "        with cls._lock:\n",
    "            if cls._instance is None:\n",
    "                cls._instance = super().__new__(cls)\n",
    "        return cls._instance"
   ]
  },
  {
   "cell_type": "code",
   "execution_count": 18,
   "metadata": {},
   "outputs": [],
   "source": [
    "\n",
    "def task():\n",
    "    singleton = ThreadSafeSingleton()\n",
    "    print(f\"Thread {threading.current_thread().name}: Singleton instance: {singleton}\")"
   ]
  },
  {
   "cell_type": "code",
   "execution_count": 19,
   "metadata": {},
   "outputs": [
    {
     "name": "stdout",
     "output_type": "stream",
     "text": [
      "Thread Thread-1: Singleton instance: <__main__.ThreadSafeSingleton object at 0x0000016BE81CF290>\n",
      "Thread Thread-2: Singleton instance: <__main__.ThreadSafeSingleton object at 0x0000016BE81CF290>\n",
      "Thread Thread-3: Singleton instance: <__main__.ThreadSafeSingleton object at 0x0000016BE81CF290>\n",
      "Thread Thread-4: Singleton instance: <__main__.ThreadSafeSingleton object at 0x0000016BE81CF290>\n",
      "Thread Thread-5: Singleton instance: <__main__.ThreadSafeSingleton object at 0x0000016BE81CF290>\n",
      "All threads finished. Check the output for object creation messages.\n"
     ]
    }
   ],
   "source": [
    "if __name__ == \"__main__\":\n",
    "    threads = []\n",
    "    for i in range(5):\n",
    "        thread = threading.Thread(target=task, name=f\"Thread-{i+1}\")\n",
    "        threads.append(thread)\n",
    "        thread.start()\n",
    "\n",
    "    for thread in threads:\n",
    "        thread.join()\n",
    "\n",
    "    print(\"All threads finished. Check the output for object creation messages.\")"
   ]
  }
 ],
 "metadata": {
  "kernelspec": {
   "display_name": "Python 3",
   "language": "python",
   "name": "python3"
  },
  "language_info": {
   "codemirror_mode": {
    "name": "ipython",
    "version": 3
   },
   "file_extension": ".py",
   "mimetype": "text/x-python",
   "name": "python",
   "nbconvert_exporter": "python",
   "pygments_lexer": "ipython3",
   "version": "3.12.3"
  }
 },
 "nbformat": 4,
 "nbformat_minor": 2
}
