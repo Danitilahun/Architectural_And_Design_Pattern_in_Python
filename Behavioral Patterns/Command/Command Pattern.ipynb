{
 "cells": [
  {
   "cell_type": "markdown",
   "id": "abf06a4e",
   "metadata": {},
   "source": [
    "# Title: The Fragile Light Switch: Demonstrating Inheritance Pitfalls and the Command Pattern\n",
    "\n",
    "## Scenario: Building a Smart Home Lighting System\n",
    "\n",
    "We're building a system that allows us to control lights in different rooms of a house.  We want to be able to turn lights on and off in specific rooms and eventually add more complex lighting controls. We initially choose an inheritance-based approach, where `Room` is the base class, and specific room types (Kitchen, Bathroom, etc.) are subclasses.\n",
    "\n",
    "## Initial Code (Inheritance Approach)"
   ]
  },
  {
   "cell_type": "code",
   "execution_count": 1,
   "id": "91c8d8c1",
   "metadata": {},
   "outputs": [],
   "source": [
    "class Light:\n",
    "    def __init__(self):\n",
    "        self.switched_on = False\n",
    "\n",
    "    def is_switched_on(self):\n",
    "        return self.switched_on\n",
    "\n",
    "    def set_switched_on(self, switched_on):\n",
    "        self.switched_on = switched_on\n",
    "        print(f\"Light switched {'on' if switched_on else 'off'}\")"
   ]
  },
  {
   "cell_type": "code",
   "execution_count": 2,
   "id": "30c187e8",
   "metadata": {},
   "outputs": [],
   "source": [
    "class Room:\n",
    "    def __init__(self):\n",
    "        self.light = Light()\n",
    "        self.name = \"Generic Room\"\n",
    "\n",
    "    def switch_lights(self):\n",
    "        self.light.set_switched_on(not self.light.is_switched_on())\n",
    "        print(f\"Lights switched in {self.name}\")"
   ]
  },
  {
   "cell_type": "code",
   "execution_count": 3,
   "id": "932e08c1",
   "metadata": {},
   "outputs": [],
   "source": [
    "class Kitchen(Room):\n",
    "    def __init__(self):\n",
    "        super().__init__()\n",
    "        self.name = \"Kitchen\"\n",
    "        self.oven = \"Oven\"\n",
    "\n",
    "    def use_oven(self):\n",
    "        print(f\"Using oven in {self.name}\")\n",
    "\n",
    "class Bathroom(Room):\n",
    "    def __init__(self):\n",
    "        super().__init__()\n",
    "        self.name = \"Bathroom\"\n",
    "        self.hot_water = \"Hot Water\"\n",
    "\n",
    "    def use_shower(self):\n",
    "        print(f\"Using shower in {self.name}\")\n",
    "\n",
    "class LivingRoom(Room):\n",
    "    def __init__(self):\n",
    "        super().__init__()\n",
    "        self.name = \"Living Room\"\n",
    "        self.windows = \"Windows\"\n",
    "\n",
    "    def watch_tv(self):\n",
    "        print(f\"Watching TV in {self.name}\")\n",
    "\n",
    "class Bedroom(Room):\n",
    "    def __init__(self):\n",
    "        super().__init__()\n",
    "        self.name = \"Bedroom\"\n",
    "        self.music = \"Music\"\n",
    "\n",
    "    def listen_music(self):\n",
    "        print(f\"Listening to music in {self.name}\")"
   ]
  },
  {
   "cell_type": "code",
   "execution_count": 4,
   "id": "ca9abd9e",
   "metadata": {},
   "outputs": [],
   "source": [
    "from typing import List\n",
    "\n",
    "\n",
    "class House:\n",
    "    def __init__(self):\n",
    "        self.rooms: List[Room] = []\n",
    "\n",
    "    def add_room(self, room: Room):\n",
    "        self.rooms.append(room)\n",
    "\n",
    "    def switch_lights_in_all_rooms(self):\n",
    "        for room in self.rooms:\n",
    "            room.switch_lights()"
   ]
  },
  {
   "cell_type": "code",
   "execution_count": 5,
   "id": "7ee9f80b",
   "metadata": {},
   "outputs": [
    {
     "name": "stdout",
     "output_type": "stream",
     "text": [
      "Light switched on\n",
      "Lights switched in Living Room\n",
      "Light switched on\n",
      "Lights switched in Bathroom\n",
      "Light switched on\n",
      "Lights switched in Kitchen\n",
      "Light switched on\n",
      "Lights switched in Bedroom\n",
      "Light switched off\n",
      "Lights switched in Living Room\n",
      "Light switched off\n",
      "Lights switched in Bathroom\n",
      "Light switched off\n",
      "Lights switched in Kitchen\n",
      "Light switched off\n",
      "Lights switched in Bedroom\n"
     ]
    }
   ],
   "source": [
    "house = House()\n",
    "\n",
    "house.add_room(LivingRoom())\n",
    "house.add_room(Bathroom())\n",
    "house.add_room(Kitchen())\n",
    "house.add_room(Bedroom())\n",
    "\n",
    "house.switch_lights_in_all_rooms()\n",
    "house.switch_lights_in_all_rooms()"
   ]
  },
  {
   "cell_type": "markdown",
   "id": "9310cc94",
   "metadata": {},
   "source": [
    "\n",
    "## The Fragile Base Class: Demonstrating the Problem\n",
    "\n",
    "* Let's say we decide to add a logging feature to the `Room` class.\n",
    "* We want to log the number of times the lights have been switched in a room.\n",
    "## We modify the base `Room` class like this:"
   ]
  },
  {
   "cell_type": "code",
   "execution_count": null,
   "id": "b34ff73c",
   "metadata": {},
   "outputs": [],
   "source": [
    "class Room:  # Redefining Room class to demonstrate the problem\n",
    "    def __init__(self):\n",
    "        self.light = Light()\n",
    "        self.name = \"Generic Room\"\n",
    "        self.switch_count = 0\n",
    "    def switch_lights(self):\n",
    "        self.light.set_switched_on(not self.light.is_switched_on())\n",
    "        self.switch_count += 1\n",
    "        print(f\"Lights switched in {self.name} (count: {self.switch_count})\")"
   ]
  },
  {
   "cell_type": "code",
   "execution_count": null,
   "id": "f2c04547",
   "metadata": {},
   "outputs": [
    {
     "name": "stdout",
     "output_type": "stream",
     "text": [
      "Light switched on\n",
      "Lights switched in Living Room\n",
      "Light switched on\n",
      "Lights switched in Bathroom\n",
      "Light switched on\n",
      "Lights switched in Kitchen\n",
      "Light switched on\n",
      "Lights switched in Bedroom\n"
     ]
    }
   ],
   "source": [
    "house = House()\n",
    "\n",
    "house.add_room(LivingRoom())\n",
    "house.add_room(Bathroom())\n",
    "house.add_room(Kitchen())\n",
    "house.add_room(Bedroom())\n",
    "\n",
    "house.switch_lights_in_all_rooms()"
   ]
  },
  {
   "cell_type": "markdown",
   "id": "57e2e467",
   "metadata": {},
   "source": [
    "## The Inheritance Pitfall: Base Class Changes and Broken Subclasses\n",
    "\n",
    "**Problem:** When you modify a base class (e.g., `Room` to add `switch_count`), subclasses might break if their constructors don't properly initialize the base class attributes.\n",
    "\n",
    "**Root Cause:** Subclasses need to call `super().__init__()` within their `__init__` methods.  If they don't, they won't initialize the new attributes defined in the redefined base class, leading to errors (like `AttributeError`).\n",
    "\n",
    "**Solution:**\n",
    "\n",
    "1.  **Redefine Base Class:** Modify the base class (`Room`) with the new attributes/functionality.\n",
    "2.  **Update Subclass Constructors:** In each subclass's `__init__` method, **explicitly call `super().__init__()` as the very first line of code**.  This ensures the base class's constructor runs and initializes the inherited attributes."
   ]
  },
  {
   "cell_type": "code",
   "execution_count": 8,
   "id": "6236da14",
   "metadata": {},
   "outputs": [],
   "source": [
    "class Room:  # Redefining Room class to FIX the problem\n",
    "    def __init__(self):\n",
    "        self.light = Light()\n",
    "        self.name = \"Generic Room\"\n",
    "        self.switch_count = 0\n",
    "    def switch_lights(self):\n",
    "        self.light.set_switched_on(not self.light.is_switched_on())\n",
    "        self.switch_count += 1\n",
    "        print(f\"Lights switched in {self.name} (count: {self.switch_count})\")"
   ]
  },
  {
   "cell_type": "code",
   "execution_count": 9,
   "id": "e1135e4e",
   "metadata": {},
   "outputs": [],
   "source": [
    "class Kitchen(Room):\n",
    "    def __init__(self):\n",
    "        super().__init__()\n",
    "        self.name = \"Kitchen\"\n",
    "        self.oven = \"Oven\"\n",
    "\n",
    "    def use_oven(self):\n",
    "        print(f\"Using oven in {self.name}\")\n",
    "\n",
    "class Bathroom(Room):\n",
    "    def __init__(self):\n",
    "        super().__init__()\n",
    "        self.name = \"Bathroom\"\n",
    "        self.hot_water = \"Hot Water\"\n",
    "\n",
    "    def use_shower(self):\n",
    "        print(f\"Using shower in {self.name}\")\n",
    "\n",
    "class LivingRoom(Room):\n",
    "    def __init__(self):\n",
    "        super().__init__()\n",
    "        self.name = \"Living Room\"\n",
    "        self.windows = \"Windows\"\n",
    "\n",
    "    def watch_tv(self):\n",
    "        print(f\"Watching TV in {self.name}\")\n",
    "\n",
    "class Bedroom(Room):\n",
    "    def __init__(self):\n",
    "        super().__init__()\n",
    "        self.name = \"Bedroom\"\n",
    "        self.music = \"Music\"\n",
    "\n",
    "    def listen_music(self):\n",
    "        print(f\"Listening to music in {self.name}\")"
   ]
  },
  {
   "cell_type": "code",
   "execution_count": 11,
   "id": "817ec90b",
   "metadata": {},
   "outputs": [
    {
     "name": "stdout",
     "output_type": "stream",
     "text": [
      "Light switched on\n",
      "Lights switched in Living Room (count: 1)\n",
      "Light switched on\n",
      "Lights switched in Bathroom (count: 1)\n",
      "Light switched on\n",
      "Lights switched in Kitchen (count: 1)\n",
      "Light switched on\n",
      "Lights switched in Bedroom (count: 1)\n",
      "Light switched off\n",
      "Lights switched in Living Room (count: 2)\n",
      "Light switched off\n",
      "Lights switched in Bathroom (count: 2)\n",
      "Light switched off\n",
      "Lights switched in Kitchen (count: 2)\n",
      "Light switched off\n",
      "Lights switched in Bedroom (count: 2)\n"
     ]
    }
   ],
   "source": [
    "house = House()\n",
    "\n",
    "house.add_room(LivingRoom())\n",
    "house.add_room(Bathroom())\n",
    "house.add_room(Kitchen())\n",
    "house.add_room(Bedroom())\n",
    "\n",
    "house.switch_lights_in_all_rooms()\n",
    "house.switch_lights_in_all_rooms()"
   ]
  },
  {
   "cell_type": "markdown",
   "id": "a79dcaed",
   "metadata": {},
   "source": [
    "# Scenario 2: Centralized Lighting Control - Whole-House Management\n",
    "\n",
    "**Background:** A building manager needs a system to control all the lights in an office building, including rooms, hallways, and floor lamps. They need to be able to turn on/off all lights at once (e.g., at the end of the day), control lights by zone (e.g., just the hallway lights), or control lights individually. They also need to be able to schedule lights to turn on/off automatically based on time of day."
   ]
  },
  {
   "cell_type": "markdown",
   "id": "84fa0c6a",
   "metadata": {},
   "source": [
    "# Scattered Logic and Single Responsibility:  Addressing the Source\n",
    "\n",
    "## Problem Description:\n",
    "\n",
    "The problem, as the image highlights, is that the *invocation* of the `switchLights` operation (i.e., `light.setSwitchedOn(!light.isSwitchedOn())` or `light.switchLights()`) is happening in multiple classes (e.g., `Room`, `FloorLamp`, and possibly subclasses of `Room`). This violates the Single Responsibility Principle (SRP) because these classes are now responsible not only for their core concerns (being a room, being a floor lamp) but also for *how* the light is switched.\n",
    "\n",
    "However, a subtler initial problem *before* applying the Command Pattern, the swithcing was done outside the light object."
   ]
  },
  {
   "cell_type": "code",
   "execution_count": null,
   "id": "062ec5b4",
   "metadata": {},
   "outputs": [],
   "source": [
    "class Light:\n",
    "    def __init__(self):\n",
    "        self.switched_on = False\n",
    "    def setSwitchedOn(self, on):\n",
    "      self.switched_on = on\n",
    "      print(f\"Light set to {'on' if self.switched_on else 'off'}\")\n",
    "    def isSwitchedOn(self):\n",
    "      return self.switched_on\n",
    "\n",
    "class Room:\n",
    "    def __init__(self, light):\n",
    "        self.light = light\n",
    "\n",
    "    def switchLights(self):\n",
    "        self.light.setSwitchedOn(not self.light.isSwitchedOn())\n",
    "\n",
    "class FloorLamp:\n",
    "    def __init__(self, light):\n",
    "        self.light = light\n",
    "\n",
    "    def switchLights(self):\n",
    "        self.light.setSwitchedOn(not self.light.isSwitchedOn())"
   ]
  },
  {
   "cell_type": "markdown",
   "id": "0b59a5cf",
   "metadata": {},
   "source": [
    "**Explanation of the initial state**\n",
    "\n",
    "`setSwitchedOn` and `isSwitchedOn` are low-level actions performed on a light\n",
    "so, for a class to use a light you should use `light.switchLights()` not\n",
    "`light.setSwitchedOn(not self.light.isSwitchedOn())` because then any class\n",
    "can toggle lights without worrying how it does this. That would then mean:\n",
    "\n",
    "`Light` class should be the one controlling the lights, not the Room or the FloorLamp."
   ]
  },
  {
   "cell_type": "code",
   "execution_count": null,
   "id": "b4a42ecd",
   "metadata": {},
   "outputs": [],
   "source": [
    "class Light:\n",
    "    def __init__(self):\n",
    "        self.switched_on = False\n",
    "\n",
    "    def switchLights(self):\n",
    "        self.switched_on = not self.switched_on\n",
    "        print(f\"Light switched {'on' if self.switched_on else 'off'}\")\n",
    "\n",
    "class Room:\n",
    "    def __init__(self, light):\n",
    "        self.light = light\n",
    "\n",
    "    def switchLights(self):\n",
    "        self.light.switchLights() \n",
    "\n",
    "class FloorLamp:\n",
    "    def __init__(self, light):\n",
    "        self.light = light\n",
    "\n",
    "    def switchLights(self):\n",
    "        self.light.switchLights()"
   ]
  },
  {
   "cell_type": "markdown",
   "id": "262f7555",
   "metadata": {},
   "source": [
    "## Persistent SRP Violation: Scattered Invocation, Before the Command Pattern\n",
    "\n",
    "**Problem Description:**\n",
    "\n",
    "Even after encapsulating the core light-switching logic *within* the `Light` class (i.e., moving the `switchLights()` method into the `Light` class), the Single Responsibility Principle (SRP) violation *still* persists. While the logic itself is now centralized, the *invocation* of that logic (`light.switchLights()`) is still scattered across multiple classes (`Room`, `FloorLamp`, `LivingRoom`).\n",
    "\n",
    "**Why is this still a problem?**\n",
    "\n",
    "1.  **Tight Coupling:** `Room`, `FloorLamp`, and `LivingRoom` are *directly* dependent on the `Light` class's `switchLights()` method. If the `Light` class's API changes (e.g., the `switchLights()` method is renamed or takes arguments), *all* the classes that call it must be modified.\n",
    "2.  **Limited Flexibility:** If we want to introduce new light-switching behaviors (e.g., dimming, color changing, scheduling), we'd have to modify the `Light` class *and* potentially the classes that call `switchLights()`.\n",
    "3.  **SRP Violation:** `Room`, `FloorLamp`, and `LivingRoom` have responsibilities *beyond* just being rooms and floor lamps. They're also responsible for *how* the light is switched.\n",
    "\n",
    "In essence, even though the *logic* is encapsulated, the *control* is still distributed, leading to a design that is less flexible, less maintainable, and more prone to breaking changes. The Command pattern aims to solve this by completely decoupling what needs to be done from *how* it's triggered."
   ]
  },
  {
   "cell_type": "code",
   "execution_count": null,
   "id": "13821b2c",
   "metadata": {},
   "outputs": [],
   "source": [
    "from abc import ABC, abstractmethod\n",
    "\n",
    "class Command(ABC):\n",
    "    @abstractmethod\n",
    "    def execute(self):\n",
    "        pass\n",
    "\n",
    "class SwitchLightsCommand(Command):\n",
    "    def __init__(self, light):\n",
    "        self.light: Light = light\n",
    "\n",
    "    def execute(self):\n",
    "        self.light.switchLights()\n",
    "\n",
    "class Light:\n",
    "    def __init__(self):\n",
    "        self.switched_on = False\n",
    "\n",
    "    def switchLights(self):\n",
    "        self.switched_on = not self.switched_on\n",
    "        print(f\"Light switched {'on' if self.switched_on else 'off'}\")\n",
    "\n",
    "class Room:\n",
    "    def __init__(self):\n",
    "        self.command = None\n",
    "\n",
    "    def setCommand(self, command: Command):\n",
    "        self.command = command\n",
    "\n",
    "    def executeCommand(self):\n",
    "        if self.command:\n",
    "            self.command.execute()\n",
    "        else:\n",
    "            print(\"No command set for this room.\")\n",
    "\n",
    "class LivingRoom(Room):\n",
    "  pass"
   ]
  },
  {
   "cell_type": "code",
   "execution_count": null,
   "id": "80653ac3",
   "metadata": {},
   "outputs": [
    {
     "name": "stdout",
     "output_type": "stream",
     "text": [
      "Light switched on\n",
      "Light switched off\n"
     ]
    },
    {
     "ename": "",
     "evalue": "",
     "output_type": "error",
     "traceback": [
      "\u001b[1;31mThe Kernel crashed while executing code in the current cell or a previous cell. \n",
      "\u001b[1;31mPlease review the code in the cell(s) to identify a possible cause of the failure. \n",
      "\u001b[1;31mClick <a href='https://aka.ms/vscodeJupyterKernelCrash'>here</a> for more info. \n",
      "\u001b[1;31mView Jupyter <a href='command:jupyter.viewOutput'>log</a> for further details."
     ]
    }
   ],
   "source": [
    "if __name__ == \"__main__\":\n",
    "    # 1. Create a Receiver\n",
    "    light = Light()\n",
    "\n",
    "    # 2. Create a Concrete Command, passing in the Receiver\n",
    "    switch_lights = SwitchLightsCommand(light)\n",
    "\n",
    "    # 3. Create an Invoker (Room)\n",
    "    living_room = LivingRoom()\n",
    "\n",
    "    # 4. Set the Command on the Invoker\n",
    "    living_room.setCommand(switch_lights)\n",
    "\n",
    "    # 5. Execute the Command\n",
    "    living_room.executeCommand() # Light switched on\n",
    "    living_room.executeCommand() # Light switched off"
   ]
  },
  {
   "cell_type": "markdown",
   "id": "215e219e",
   "metadata": {},
   "source": [
    "![Image](./image/example.png)"
   ]
  },
  {
   "cell_type": "markdown",
   "id": "42d3040f",
   "metadata": {},
   "source": [
    "# Command Pattern: Smart Home Automation\n",
    "\n",
    "## Scenario\n",
    "\n",
    "Developing a smart home automation app to control lights in a house. Initial approach involves representing each room as a class inheriting from a base `Room` class with light switching logic.\n",
    "\n",
    "## Problems with Inheritance Approach\n",
    "\n",
    "1.  **Fragile Base Class:** Modifying the base `Room` class's light logic risks breaking subclasses (e.g., `Bathroom`, `LivingRoom`).\n",
    "2.  **Lack of Flexibility:** Difficult to remove features (e.g., light control) from specific rooms (e.g., bathrooms with sensors) without affecting others.\n",
    "3.  **Code Duplication:** If new elements like a `FloorLamp` need the same light logic, it can't inherit from `Room`, leading to duplicated code.\n",
    "4.  **SRP Violation:** Classes other than `Light` are controlling the switching which is a problem\n",
    "\n",
    "## Solution: Command Pattern\n",
    "\n",
    "1.  **Encapsulate Logic:** Move light-switching logic into the `Light` class itself to ensure consistent behavior across the application.\n",
    "2.  **Extract Request Details:** Encapsulate the method call (object, method name, arguments) into a separate `Command` class.\n",
    "3.  **Invoker/Receiver:** Rooms and FloorLamps now hold a `Command` object and have an `execute_command` method. They *invoke* the command but don't *perform* the action directly. The `Light` class becomes the *receiver* of the command, actually executing the light switching.\n",
    "4. The client has more flexilibity\n",
    "## Command Pattern Structure\n",
    "\n",
    "*   **Command Interface:** Declares a single `execute` method.\n",
    "*   **Concrete Commands:** Implement the `Command` interface (e.g., `SwitchLightsCommand`).\n",
    "*   **Invoker (Sender):** Initiates the request; holds a reference to a `Command` object (e.g., `Room`).\n",
    "*   **Receiver:** Contains the business logic to perform the action (e.g., `Light`).\n",
    "*   **Client:** Creates and configures `Command` objects, passing in request parameters and a receiver instance.\n",
    "\n",
    "## Benefits of Command Pattern\n",
    "\n",
    "1.  **Decoupling:** Separates classes that *invoke* operations from classes that *perform* them.\n",
    "2.  **SRP Adherence:** Each class has a single responsibility.\n",
    "3.  **Flexibility:** Easily add new commands (e.g., open/close curtains) without modifying existing classes.\n",
    "4.  **Runtime Configuration:** Decisions are made at runtime by the client, increasing flexibility.\n",
    "5.  **Queueing/Scheduling:** Commands can be serialized and scheduled, queued, logged, or sent over a network.\n",
    "\n",
    "## Additional Uses\n",
    "\n",
    "*   Passing commands as method arguments.\n",
    "*   Storing commands in other objects.\n",
    "*   Switching linked commands at runtime.\n",
    "*   Queueing and scheduling operations.\n",
    "\n",
    "## Key Takeaway\n",
    "\n",
    "The Command pattern turns a specific method call into a standalone object, providing flexibility, decoupling, and adherence to the Single Responsibility Principle. It separates what needs to be done from how it's triggered."
   ]
  },
  {
   "cell_type": "markdown",
   "id": "653e814d",
   "metadata": {},
   "source": [
    "![Note](./image/finalnote.png)"
   ]
  },
  {
   "cell_type": "markdown",
   "id": "98cff54f",
   "metadata": {},
   "source": []
  }
 ],
 "metadata": {
  "kernelspec": {
   "display_name": "Python 3",
   "language": "python",
   "name": "python3"
  },
  "language_info": {
   "codemirror_mode": {
    "name": "ipython",
    "version": 3
   },
   "file_extension": ".py",
   "mimetype": "text/x-python",
   "name": "python",
   "nbconvert_exporter": "python",
   "pygments_lexer": "ipython3",
   "version": "3.12.3"
  }
 },
 "nbformat": 4,
 "nbformat_minor": 5
}
