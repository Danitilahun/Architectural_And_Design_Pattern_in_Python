{
 "cells": [
  {
   "cell_type": "markdown",
   "id": "fbc0bcd7",
   "metadata": {},
   "source": [
    "![Title](./image/title.png)"
   ]
  },
  {
   "cell_type": "markdown",
   "id": "745c116c",
   "metadata": {},
   "source": [
    "## Problem Scenario: Controlling Access and Improving Performance\n",
    "\n",
    "The Proxy pattern addresses two key problems:\n",
    "\n",
    "1.  **Controlling Access:**\n",
    "    *   Need to restrict access to certain resources (e.g., websites) based on certain conditions (e.g., user, time of day).\n",
    "    *   Don't want to modify the original object (e.g., the `Internet` class) to add access control logic, as it would affect all users.\n",
    "    *   Solution: An intermediary (\"proxy\") that intercepts requests and applies access rules before forwarding them to the original object.\n",
    "\n",
    "2.  **Improving Performance (Caching):**\n",
    "    *   Certain operations are expensive and time-consuming (e.g., downloading videos).\n",
    "    *   Repeatedly performing the same operation is inefficient.\n",
    "    *   Solution: A proxy that caches the results of expensive operations.  Subsequent requests for the same result are served from the cache, avoiding the need to re-execute the operation.\n",
    "\n",
    "**Essentially:**\n",
    "\n",
    "The Proxy pattern lets you add behavior before or after a request reaches the original object, without modifying the original object itself. This behavior can be access control, caching, or other types of enhancements."
   ]
  },
  {
   "cell_type": "markdown",
   "id": "df192195",
   "metadata": {},
   "source": [
    "## Problem: Restricting Website Access\n",
    "\n",
    "The goal is to restrict access to specific websites (e.g., \"banned.com\") for certain users, without affecting other users or modifying the core `Internet` class. Directly modifying the `Internet` class would enforce the restriction globally."
   ]
  },
  {
   "cell_type": "code",
   "execution_count": null,
   "id": "060fd24f",
   "metadata": {},
   "outputs": [],
   "source": [
    "class Internet:\n",
    "    def connect_to(self, host):\n",
    "        \"\"\"Connects to a given host.\"\"\"\n",
    "        pass\n",
    "\n",
    "class RealInternet(Internet):\n",
    "    def connect_to(self, host):\n",
    "        \"\"\"Connects to a given host, with a ban.\"\"\"\n",
    "        if host == \"banned.com\":\n",
    "            print(\"Access Denied!\")\n",
    "            return\n",
    "\n",
    "        print(f\"Opened connection to {host}\")\n",
    "\n",
    "internet = RealInternet()\n",
    "internet.connect_to(\"google.com\")\n",
    "internet.connect_to(\"banned.com\")  # Output: Access Denied!"
   ]
  },
  {
   "cell_type": "markdown",
   "id": "1e1d976a",
   "metadata": {},
   "source": [
    "## Solution: ProxyInternet for Selective Banning\n",
    "\n",
    "The `ProxyInternet` class implements the `Internet` interface and intercepts calls to `connect_to()`. It checks if the requested host is in the `banned_sites` list. If it is, access is denied; otherwise, the connection is forwarded to the `RealInternet` object. This allows us to selectively apply the banning functionality without modifying `RealInternet` and without affecting other clients that might not want to use the proxy."
   ]
  },
  {
   "cell_type": "code",
   "execution_count": null,
   "id": "b1cfded9",
   "metadata": {},
   "outputs": [],
   "source": [
    "class Internet:\n",
    "    def connect_to(self, host):\n",
    "        \"\"\"Connects to a given host.\"\"\"\n",
    "        pass\n",
    "\n",
    "\n",
    "class RealInternet(Internet):\n",
    "    def connect_to(self, host):\n",
    "        \"\"\"Connects to a given host.\"\"\"\n",
    "        print(f\"Opened connection to {host}\")\n",
    "\n",
    "\n",
    "class ProxyInternet(Internet):\n",
    "    def __init__(self):\n",
    "        self.real_internet = RealInternet()\n",
    "        self.banned_sites = [\"banned.com\"]\n",
    "\n",
    "    def connect_to(self, host):\n",
    "        \"\"\"Connects to a given host, checking for banned sites first.\"\"\"\n",
    "        if host in self.banned_sites:\n",
    "            print(\"Access Denied!\")\n",
    "        else:\n",
    "            self.real_internet.connect_to(host)\n",
    "\n",
    "\n",
    "internet = ProxyInternet()\n",
    "internet.connect_to(\"google.com\")\n",
    "internet.connect_to(\"banned.com\")\n",
    "\n",
    "real_internet = RealInternet()\n",
    "real_internet.connect_to(\"banned.com\")"
   ]
  },
  {
   "cell_type": "markdown",
   "id": "23a1ec44",
   "metadata": {},
   "source": [
    "## Scenario: Inefficient Video Downloading (Before Proxy)\n",
    "\n",
    "The `RealVideoDownloader` retrieves video metadata every time `getVideo` is called, even for videos that have already been downloaded.  This is inefficient and wastes resources."
   ]
  },
  {
   "cell_type": "code",
   "execution_count": null,
   "id": "82899708",
   "metadata": {},
   "outputs": [],
   "source": [
    "class Video:\n",
    "    def __init__(self, name):\n",
    "        self.name = name\n",
    "\n",
    "class VideoDownloader:\n",
    "    def getVideo(self, videoName):\n",
    "        pass\n",
    "\n",
    "class RealVideoDownloader(VideoDownloader):\n",
    "    def getVideo(self, videoName):\n",
    "        print(\"Connecting to https://www.youtube.com/\")\n",
    "        print(\"Downloading Video\")\n",
    "        print(\"Retrieving Video Metadata\")\n",
    "        return Video(videoName)\n",
    "\n",
    "downloader = RealVideoDownloader()\n",
    "\n",
    "video1 = downloader.getVideo(\"geekific\") # Connects, downloads, retrieves metadata\n",
    "video2 = downloader.getVideo(\"geekific\") # Connects, downloads, retrieves metadata AGAIN!\n",
    "\n",
    "video3 = downloader.getVideo(\"likeNsub\")\n",
    "video4 = downloader.getVideo(\"likeNsub\")\n",
    "\n",
    "video5 = downloader.getVideo(\"geekific\") # Connects, downloads, retrieves metadata AGAIN!"
   ]
  },
  {
   "cell_type": "markdown",
   "id": "d3e6e6b4",
   "metadata": {},
   "source": [
    "## Solution: ProxyVideoDownloader for Caching\n",
    "\n",
    "The `ProxyVideoDownloader` implements the `VideoDownloader` interface and caches the downloaded videos.  When `getVideo` is called, it first checks if the video is in the cache. If it is, the cached video is returned. Otherwise, the `RealVideoDownloader` is used to download the video, and the result is stored in the cache before being returned. This significantly reduces the number of times the `RealVideoDownloader` is called."
   ]
  },
  {
   "cell_type": "markdown",
   "id": "ee5924b6",
   "metadata": {},
   "source": [
    "![Example](./image/example.png)"
   ]
  },
  {
   "cell_type": "code",
   "execution_count": null,
   "id": "f48ae70c",
   "metadata": {},
   "outputs": [],
   "source": [
    "class Video:\n",
    "    def __init__(self, name):\n",
    "        self.name = name\n",
    "\n",
    "class VideoDownloader:\n",
    "    def getVideo(self, videoName):\n",
    "        pass\n",
    "\n",
    "class RealVideoDownloader(VideoDownloader):\n",
    "    def getVideo(self, videoName):\n",
    "        print(\"Connecting to https://www.youtube.com/\")\n",
    "        print(\"Downloading Video\")\n",
    "        print(\"Retrieving Video Metadata\")\n",
    "        return Video(videoName) \n",
    "\n",
    "class ProxyVideoDownloader(VideoDownloader):\n",
    "    def __init__(self):\n",
    "        self.real_downloader = RealVideoDownloader()\n",
    "        self.video_cache = {}\n",
    "        \n",
    "    def getVideo(self, videoName):\n",
    "        if videoName not in self.video_cache:\n",
    "            print(f\"(Proxy) Downloading {videoName} from the source.\")\n",
    "            self.video_cache[videoName] = self.real_downloader.getVideo(videoName)\n",
    "        else:\n",
    "            print(f\"(Proxy) Retrieving {videoName} from cache.\")\n",
    "        return self.video_cache[videoName]\n",
    "\n",
    "downloader = ProxyVideoDownloader()\n",
    "\n",
    "video1 = downloader.getVideo(\"geekific\") # Connects, downloads, retrieves metadata\n",
    "video2 = downloader.getVideo(\"geekific\") # Retrieves from cache\n",
    "\n",
    "video3 = downloader.getVideo(\"likeNsub\") # Connects, downloads, retrieves metadata\n",
    "\n",
    "video4 = downloader.getVideo(\"likeNsub\") # Retrieves from cache\n",
    "video5 = downloader.getVideo(\"geekific\") # Retrieves from cache"
   ]
  }
 ],
 "metadata": {
  "language_info": {
   "name": "python"
  }
 },
 "nbformat": 4,
 "nbformat_minor": 5
}
